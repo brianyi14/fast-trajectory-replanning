{
 "cells": [
  {
   "cell_type": "code",
   "execution_count": 33,
   "metadata": {},
   "outputs": [],
   "source": [
    "import numpy as np\n",
    "import heapq as hp"
   ]
  },
  {
   "cell_type": "code",
   "execution_count": 2,
   "metadata": {},
   "outputs": [],
   "source": [
    "# States that make up the maze; don't konw if I need the child pointers yet\n",
    "class State:\n",
    "    \n",
    "    def __init__(self, blocked, childN, childS, childE, childW):\n",
    "        self.blocked = blocked\n",
    "        self.childN = childN\n",
    "        self.childS = childS\n",
    "        self.childE = childE\n",
    "        self.childW = childW"
   ]
  },
  {
   "cell_type": "code",
   "execution_count": 50,
   "metadata": {},
   "outputs": [],
   "source": [
    "class Maze:\n",
    "    \n",
    "    def __init__(self, rows, columns, seed):\n",
    "        self.rows = rows\n",
    "        self.columns = columns\n",
    "        self.grid, self.spawn, self.target = self.create_grid(rows, columns, seed)\n",
    "            \n",
    "    def create_grid(self, rows, columns, seed):\n",
    "        # Initialize grid that agent travels through\n",
    "        grid = [[1.0]*columns for n in range(rows)] \n",
    "\n",
    "        # Determine which states are blocked\n",
    "        np.random.seed(seed)\n",
    "        grid_blocked = np.random.uniform(size=(rows,columns))\n",
    "\n",
    "        # Creation of grid\n",
    "        for i in range(rows):\n",
    "            for j in range(columns):\n",
    "\n",
    "                # 30% chance a state is blocked\n",
    "                if grid_blocked[i][j] > 0.3:\n",
    "                    grid[i][j] = State(0, 1, 1, 1, 1)\n",
    "                else:\n",
    "                    grid[i][j] = State(1, 1, 1, 1, 1)                \n",
    "\n",
    "        # Marking spawn and target\n",
    "        spawn = [-1, -1]\n",
    "        target = [-1, -1]\n",
    "        while (spawn[0] == target[0] & spawn[1] == target[1]):\n",
    "            spawn[0] = np.random.randint(0, rows)\n",
    "            spawn[1] = np.random.randint(0, columns)\n",
    "            target[0] = np.random.randint(0, rows)\n",
    "            target[1] = np.random.randint(0, columns)\n",
    "        grid[spawn[0]][spawn[1]].blocked = \"S\"\n",
    "        grid[target[0]][target[1]].blocked = \"T\"\n",
    "\n",
    "        return grid, spawn, target\n",
    "    \n",
    "    def print_grid(self):\n",
    "        for i in range(len(self.grid)):\n",
    "            print()\n",
    "            for j in range(len(self.grid[0])):\n",
    "                print(self.grid[i][j].blocked, end=' ')"
   ]
  },
  {
   "cell_type": "code",
   "execution_count": 51,
   "metadata": {},
   "outputs": [
    {
     "name": "stdout",
     "output_type": "stream",
     "text": [
      "\n",
      "0 0 1 0 1 1 T 0 0 0 \n",
      "0 0 1 0 1 0 0 0 1 1 \n",
      "0 0 0 0 0 0 1 1 1 0 \n",
      "1 0 0 0 0 0 0 0 1 0 \n",
      "0 0 1 0 1 0 S 1 1 1 \n",
      "1 0 1 1 0 1 0 1 0 0 \n",
      "1 0 0 0 1 0 0 0 0 0 \n",
      "0 1 1 0 0 1 0 0 0 0 \n",
      "0 0 0 0 1 0 0 0 0 0 \n",
      "1 0 0 0 0 1 0 0 1 0 "
     ]
    }
   ],
   "source": [
    "# Testing out methods\n",
    "maze1 = Maze(10, 10, 1)\n",
    "maze1.print_grid()"
   ]
  },
  {
   "cell_type": "code",
   "execution_count": 42,
   "metadata": {},
   "outputs": [],
   "source": [
    "# Linkedlist for closed list\n",
    "class Linked_list:\n",
    "    \n",
    "    def __init__(self):\n",
    "        self.head = None\n",
    "\n",
    "# Node class for closed list\n",
    "class Node:\n",
    "    \n",
    "    def __init__(self, data):\n",
    "        self.data = data\n",
    "        self.before = None\n",
    "        self.next = None"
   ]
  },
  {
   "cell_type": "code",
   "execution_count": 69,
   "metadata": {
    "scrolled": true
   },
   "outputs": [
    {
     "data": {
      "text/plain": [
       "[[3, 6], [5, 6], [4, 5]]"
      ]
     },
     "execution_count": 69,
     "metadata": {},
     "output_type": "execute_result"
    }
   ],
   "source": [
    "maze = maze1\n",
    "# The following is the ComputePath() algorithm following his pseudo-code\n",
    "\n",
    "#while g > min(openlist)\n",
    "open_list = [maze.spawn]\n",
    "closed_list = Linked_list()\n",
    "\n",
    "# Line3 - pop off and expand\n",
    "temp = hp.heappop(open_list)\n",
    "for child, direction in zip(range(4), [[-1, 0], [1, 0], [0, 1], [0, -1]]):\n",
    "    x = temp[0] + direction[0]\n",
    "    y = temp[1] + direction[1]\n",
    "    if x < 0 or x >= maze.rows or y < 0 or y >= maze.columns:\n",
    "        continue\n",
    "    elif maze.grid[x][y].blocked == 1:\n",
    "        continue            \n",
    "    else:\n",
    "        hp.heappush(open_list, [x, y])\n",
    "\n",
    "# Line4 - add to closed list\n",
    "closed_list.next = Node(temp)\n",
    "\n",
    "# Line 5 - 13 CONTINUING HERE\n",
    "\n",
    "\n",
    "open_list"
   ]
  },
  {
   "cell_type": "code",
   "execution_count": null,
   "metadata": {},
   "outputs": [],
   "source": []
  }
 ],
 "metadata": {
  "kernelspec": {
   "display_name": "Python 3",
   "language": "python",
   "name": "python3"
  },
  "language_info": {
   "codemirror_mode": {
    "name": "ipython",
    "version": 3
   },
   "file_extension": ".py",
   "mimetype": "text/x-python",
   "name": "python",
   "nbconvert_exporter": "python",
   "pygments_lexer": "ipython3",
   "version": "3.7.4"
  }
 },
 "nbformat": 4,
 "nbformat_minor": 2
}
