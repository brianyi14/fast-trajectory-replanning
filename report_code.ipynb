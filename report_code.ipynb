{
 "cells": [
  {
   "cell_type": "code",
   "execution_count": null,
   "metadata": {},
   "outputs": [],
   "source": [
    "import numpy as np"
   ]
  },
  {
   "cell_type": "code",
   "execution_count": 119,
   "metadata": {},
   "outputs": [],
   "source": [
    "# The individual spaces to the grid are each a state for now (idk if I will make it separate later)\n",
    "class State:\n",
    "    def __init__(self, blocked, childN, childS, childE, childW):\n",
    "        self.blocked = blocked\n",
    "        self.childN = None\n",
    "        self.childS = None\n",
    "        self.childE = None\n",
    "        self.childW = None"
   ]
  },
  {
   "cell_type": "code",
   "execution_count": 212,
   "metadata": {
    "scrolled": false
   },
   "outputs": [],
   "source": [
    "def create_grid(rows, columns, seed):\n",
    "    # Maze that agent travels through\n",
    "    grid = [[1.0]*columns for n in range(rows)] \n",
    "    \n",
    "    # Determine which states are blocked\n",
    "    np.random.seed(seed)\n",
    "    grid_blocked = np.random.uniform(size=(rows,columns))\n",
    "    \n",
    "    # Creation of grid\n",
    "    for i in range(rows):\n",
    "        for j in range(columns):\n",
    "            if grid_blocked[i][j] > 0.3:\n",
    "                grid[i][j] = State(0, 1, 1, 1, 1)\n",
    "            else:\n",
    "                grid[i][j] = State(1, 1, 1, 1, 1)\n",
    "                \n",
    "    # Marking spawn and target\n",
    "    spawn_x = 1\n",
    "    spawn_y = 1\n",
    "    target_x = 1\n",
    "    target_y = 1\n",
    "    while (spawn_x == target_x & spawn_y == target_y):\n",
    "        spawn_x = np.random.randint(0, rows)\n",
    "        spawn_y = np.random.randint(0, columns)\n",
    "        target_x = np.random.randint(0, rows)\n",
    "        target_y = np.random.randint(0, columns)\n",
    "    grid[spawn_x][spawn_y].blocked = \"S\"\n",
    "    grid[target_x][target_y].blocked = \"T\"\n",
    "    \n",
    "    return grid"
   ]
  },
  {
   "cell_type": "code",
   "execution_count": 128,
   "metadata": {},
   "outputs": [],
   "source": [
    "def print_grid(grid):\n",
    "    for i in range(len(grid)):\n",
    "        print()\n",
    "        for j in range(len(grid[0])):\n",
    "            print(grid[i][j].blocked, end=' ')"
   ]
  },
  {
   "cell_type": "code",
   "execution_count": 214,
   "metadata": {},
   "outputs": [
    {
     "name": "stdout",
     "output_type": "stream",
     "text": [
      "\n",
      "0 0 1 0 1 1 T 0 0 0 \n",
      "0 0 1 0 1 0 0 0 1 1 \n",
      "0 0 0 0 0 0 1 1 1 0 \n",
      "1 0 0 0 0 0 0 0 1 0 \n",
      "0 0 1 0 1 0 S 1 1 1 \n",
      "1 0 1 1 0 1 0 1 0 0 \n",
      "1 0 0 0 1 0 0 0 0 0 \n",
      "0 1 1 0 0 1 0 0 0 0 \n",
      "0 0 0 0 1 0 0 0 0 0 \n",
      "1 0 0 0 0 1 0 0 1 0 "
     ]
    }
   ],
   "source": [
    "# Testing out methods \n",
    "grid1 = create_grid(10, 10, 1)\n",
    "print_grid(grid1)"
   ]
  },
  {
   "cell_type": "code",
   "execution_count": null,
   "metadata": {},
   "outputs": [],
   "source": []
  }
 ],
 "metadata": {
  "kernelspec": {
   "display_name": "Python 3",
   "language": "python",
   "name": "python3"
  },
  "language_info": {
   "codemirror_mode": {
    "name": "ipython",
    "version": 3
   },
   "file_extension": ".py",
   "mimetype": "text/x-python",
   "name": "python",
   "nbconvert_exporter": "python",
   "pygments_lexer": "ipython3",
   "version": "3.7.4"
  }
 },
 "nbformat": 4,
 "nbformat_minor": 2
}
